{
 "metadata": {
  "name": "",
  "signature": "sha256:67a3203246e90502755f9adea166bca86e2ad64a5bc2a7dbe0a5e9be880da57e"
 },
 "nbformat": 3,
 "nbformat_minor": 0,
 "worksheets": [
  {
   "cells": [
    {
     "cell_type": "heading",
     "level": 1,
     "metadata": {},
     "source": [
      "K-vector search technique"
     ]
    },
    {
     "cell_type": "heading",
     "level": 2,
     "metadata": {},
     "source": [
      "basado en: \"A K-VECTOR APPROACH TO SAMPLING, INTERPOLATION, AND\n",
      "APPROXIMATION\" Daniele Mortari and Jonathan Rogers"
     ]
    },
    {
     "cell_type": "heading",
     "level": 3,
     "metadata": {},
     "source": [
      "Primera implentaci\u00f3n con una base de datos random"
     ]
    },
    {
     "cell_type": "code",
     "collapsed": false,
     "input": [
      "#Imports\n",
      "import numpy as np\n",
      "import matplotlib.pyplot as plt"
     ],
     "language": "python",
     "metadata": {},
     "outputs": [],
     "prompt_number": 2
    },
    {
     "cell_type": "heading",
     "level": 4,
     "metadata": {},
     "source": [
      "Comenzamos con el preprocesamiento "
     ]
    },
    {
     "cell_type": "code",
     "collapsed": false,
     "input": [
      "n = 10000 #numero de elementos de la base de datos\n",
      "#prealocamos los vectores\n",
      "y = np.zeros(n)\n",
      "s = np.zeros_like(y)\n",
      "i = np.zeros_like(y)\n",
      "k = np.zeros_like(y)\n",
      "y_busqueda = np.zeros_like(y)\n",
      "#y_busqueda2 = np.zeros_like(y)\n",
      "vec_aux = np.zeros_like(y)\n",
      "\n",
      "#epsilon es el numero de precision de la maquina\n",
      "epsilon = np.finfo(np.float).eps\n",
      "delta_epsilon = (n - 1) * epsilon\n",
      "\n"
     ],
     "language": "python",
     "metadata": {},
     "outputs": [],
     "prompt_number": 3
    },
    {
     "cell_type": "markdown",
     "metadata": {},
     "source": [
      "Nuestra base de datos es el vector random $\\mathbf{y}$"
     ]
    },
    {
     "cell_type": "code",
     "collapsed": false,
     "input": [
      "y = np.random.random(n)\n",
      "\n",
      "#luego lo ordenamos de forma ascendente\n",
      "\n",
      "#primero obtenemos el vector de indices i del ordenamiento\n",
      "\n",
      "i = np.argsort(y)\n",
      "\n",
      "s = y[i]\n",
      "\n",
      "y_min = s[0]  # primer elemento\n",
      "y_max = s[-1]  # ultimo elemento\n",
      "\n",
      "#generamos la recta z(x)=mx+q\n",
      "\n",
      "m = (y_max - y_min + 2 * delta_epsilon ) / (n-1)\n",
      "q = y_min - m - delta_epsilon\n",
      "#funcion anonima para la recta\n",
      "z = lambda x: (m * x + q)\n",
      "i = np.arange(n)\n",
      "z_discreto = z(i)\n",
      "\n",
      "#generamos el k-vector\n",
      "\n",
      "k[0] = 0\n",
      "k[-1] = n\n",
      "\n",
      "#TODO vectorizar esto:\n",
      "\n",
      "for aux in xrange(1,n):\n",
      "    vec_aux = s < z_discreto[aux]\n",
      "    k[aux] = np.sum(vec_aux)\n",
      "\n",
      "\n"
     ],
     "language": "python",
     "metadata": {},
     "outputs": [],
     "prompt_number": 4
    },
    {
     "cell_type": "markdown",
     "metadata": {},
     "source": [
      "Supongamos que queremos efectuar una busqueda entre  $y_{a}=.3$ e $y_{b}=.7$"
     ]
    },
    {
     "cell_type": "code",
     "collapsed": false,
     "input": [
      "#Rango de b\u00fasqueda\n",
      "y_a = .3\n",
      "y_b = .7"
     ],
     "language": "python",
     "metadata": {},
     "outputs": [],
     "prompt_number": 5
    },
    {
     "cell_type": "markdown",
     "metadata": {},
     "source": [
      "Siguiendo los pasos del paper :"
     ]
    },
    {
     "cell_type": "code",
     "collapsed": false,
     "input": [
      "#%%timeit\n",
      "j_b = np.floor((y_a - q) / m)\n",
      "j_t = np.ceil((y_b - q) / m)\n",
      "\n",
      "k_start = k[j_b] + 1\n",
      "k_end = k[j_t]\n",
      "\n",
      "k_busqueda = np.arange(int(k_start),int(k_end))\n",
      "\n",
      "\n",
      "y_busqueda = s[k_busqueda]\n",
      "\n",
      "#ahora si la cantidad de elementos de la base de datos es grande en promedio la\n",
      "#cantidad de elementos que estan fuera del rango e0 =1 entonces esta en algunos\n",
      "#de los dos extremos\n",
      "\n",
      "if y_busqueda[0] <= y_a:\n",
      "    y_busqueda = np.delete(y_busqueda,0)\n",
      "\n",
      "if y_busqueda[-1] >= y_b:\n",
      "    y_busqueda = np.delete(y_busqueda,len(y_busqueda) - 1)\n",
      "\n"
     ],
     "language": "python",
     "metadata": {},
     "outputs": [],
     "prompt_number": 6
    },
    {
     "cell_type": "code",
     "collapsed": false,
     "input": [
      "y_busqueda"
     ],
     "language": "python",
     "metadata": {},
     "outputs": [
      {
       "metadata": {},
       "output_type": "pyout",
       "prompt_number": 7,
       "text": [
        "array([ 0.30013973,  0.30014908,  0.30016499, ...,  0.69937947,\n",
        "        0.69945416,  0.6998439 ])"
       ]
      }
     ],
     "prompt_number": 7
    },
    {
     "cell_type": "code",
     "collapsed": false,
     "input": [
      "len(y_busqueda)"
     ],
     "language": "python",
     "metadata": {},
     "outputs": [
      {
       "metadata": {},
       "output_type": "pyout",
       "prompt_number": 8,
       "text": [
        "4006"
       ]
      }
     ],
     "prompt_number": 8
    },
    {
     "cell_type": "code",
     "collapsed": false,
     "input": [
      "#%%timeit\n",
      "index1 = np.argwhere(s <= 0.7)\n",
      "index2 = np.argwhere(s >= 0.3)\n",
      "y_busqueda2 = s[index2[0]:index1[-1]]\n"
     ],
     "language": "python",
     "metadata": {},
     "outputs": [],
     "prompt_number": 9
    },
    {
     "cell_type": "code",
     "collapsed": false,
     "input": [
      "y_busqueda2"
     ],
     "language": "python",
     "metadata": {},
     "outputs": [
      {
       "metadata": {},
       "output_type": "pyout",
       "prompt_number": 10,
       "text": [
        "array([ 0.30012065,  0.30013973,  0.30014908, ...,  0.69922712,\n",
        "        0.69937947,  0.69945416])"
       ]
      }
     ],
     "prompt_number": 10
    },
    {
     "cell_type": "code",
     "collapsed": false,
     "input": [
      "len(y_busqueda2)"
     ],
     "language": "python",
     "metadata": {},
     "outputs": [
      {
       "metadata": {},
       "output_type": "pyout",
       "prompt_number": 11,
       "text": [
        "4006"
       ]
      }
     ],
     "prompt_number": 11
    },
    {
     "cell_type": "code",
     "collapsed": false,
     "input": [
      "index1"
     ],
     "language": "python",
     "metadata": {},
     "outputs": [
      {
       "metadata": {},
       "output_type": "pyout",
       "prompt_number": 12,
       "text": [
        "array([[   0],\n",
        "       [   1],\n",
        "       [   2],\n",
        "       ..., \n",
        "       [7021],\n",
        "       [7022],\n",
        "       [7023]])"
       ]
      }
     ],
     "prompt_number": 12
    },
    {
     "cell_type": "code",
     "collapsed": false,
     "input": [
      "s[6991]"
     ],
     "language": "python",
     "metadata": {},
     "outputs": [
      {
       "metadata": {},
       "output_type": "pyout",
       "prompt_number": 13,
       "text": [
        "0.69583131926330333"
       ]
      }
     ],
     "prompt_number": 13
    },
    {
     "cell_type": "code",
     "collapsed": false,
     "input": [
      "epsilon"
     ],
     "language": "python",
     "metadata": {},
     "outputs": [
      {
       "metadata": {},
       "output_type": "pyout",
       "prompt_number": 14,
       "text": [
        "2.2204460492503131e-16"
       ]
      }
     ],
     "prompt_number": 14
    },
    {
     "cell_type": "code",
     "collapsed": false,
     "input": [
      "s"
     ],
     "language": "python",
     "metadata": {},
     "outputs": [
      {
       "metadata": {},
       "output_type": "pyout",
       "prompt_number": 15,
       "text": [
        "array([  5.38547418e-06,   1.05323082e-04,   1.61032375e-04, ...,\n",
        "         9.99753467e-01,   9.99970135e-01,   9.99994605e-01])"
       ]
      }
     ],
     "prompt_number": 15
    },
    {
     "cell_type": "code",
     "collapsed": false,
     "input": [],
     "language": "python",
     "metadata": {},
     "outputs": []
    }
   ],
   "metadata": {}
  }
 ]
}